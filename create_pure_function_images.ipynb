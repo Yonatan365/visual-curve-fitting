{
 "cells": [
  {
   "cell_type": "markdown",
   "metadata": {
    "heading_collapsed": true
   },
   "source": [
    "#### Import libraries"
   ]
  },
  {
   "cell_type": "code",
   "execution_count": 10,
   "metadata": {
    "hidden": true
   },
   "outputs": [],
   "source": [
    "%matplotlib inline\n",
    "import numpy as np\n",
    "import matplotlib.pyplot as plt\n",
    "import pathlib"
   ]
  },
  {
   "cell_type": "markdown",
   "metadata": {},
   "source": [
    "#### Image Graph Function and cofigure path"
   ]
  },
  {
   "cell_type": "code",
   "execution_count": 12,
   "metadata": {},
   "outputs": [],
   "source": [
    "def sine(x, params):\n",
    "    if np.ndim(params)==1: params = params[None, :]\n",
    "    return params[:,0]*np.cos(linear(x, params[:,1:]))\n",
    "\n",
    "def linear(x, params):\n",
    "    if np.ndim(params)==1: params = params[None, :]\n",
    "    return params[:,0]*x + params[:,1]\n",
    "\n",
    "def quadratic(x, params):\n",
    "    if np.ndim(params)==1: params = params[None, :]\n",
    "    return params[:,0]*x**2 + linear(x, params[:,1:])\n",
    "\n",
    "def cubic(x, params):\n",
    "    if np.ndim(params)==1: params = params[None, :]\n",
    "    return params[:,0]*x**3 + quadratic(x, params[:,1:])\n"
   ]
  },
  {
   "cell_type": "code",
   "execution_count": 20,
   "metadata": {},
   "outputs": [],
   "source": [
    "function_list = [sine, linear, quadratic, cubic]"
   ]
  },
  {
   "cell_type": "markdown",
   "metadata": {},
   "source": [
    "##### Config path"
   ]
  },
  {
   "cell_type": "code",
   "execution_count": 21,
   "metadata": {},
   "outputs": [],
   "source": [
    "path = pathlib.Path(\"imgs\")\n",
    "path.mkdir(parents=True, exist_ok=True)\n",
    "\n",
    "for func_name in function_list:\n",
    "    p = path / func_name.__name__\n",
    "    p.mkdir(parents=True, exist_ok=True)"
   ]
  },
  {
   "cell_type": "markdown",
   "metadata": {},
   "source": [
    "#### Generator function"
   ]
  },
  {
   "cell_type": "code",
   "execution_count": 9,
   "metadata": {},
   "outputs": [],
   "source": [
    "def make_function_images(func, param_ranges=[(-10,10), (-10,10)], n=4, size=(4,3)):\n",
    "    # create n graphs of function func with random parameters in the ranges given by params, image size size.\n",
    "    params = np.random.rand(n, len(param_ranges))\n",
    "    factors = [ranges[1]-ranges[0] for ranges in param_ranges]\n",
    "    mins = [ranges[0] for ranges in param_ranges]\n",
    "    params = params * factors + mins\n",
    "    x = np.linspace(-1, 1, 200)\n",
    "    plt.figure(figsize=size)\n",
    "    for i in range(n):\n",
    "        # print(params[i,:])\n",
    "        plt.plot(x, func(x, params[i,:]))\n",
    "        # Turn off tick labels\n",
    "        plt.xticks([])\n",
    "        plt.yticks([])\n",
    "        plt.savefig('imgs/'+func.__name__+'/'+str(i)+'.png')\n",
    "        plt.cla()\n",
    "    np.savetxt('imgs/'+func.__name__+'params.csv', params)"
   ]
  },
  {
   "cell_type": "code",
   "execution_count": null,
   "metadata": {},
   "outputs": [],
   "source": [
    "for func_name in function_list:\n",
    "    make_function_images(func_name, [(-10,10), (-10,10), (-10,10), (-10,10)], n=1000)"
   ]
  }
 ],
 "metadata": {
  "kernelspec": {
   "display_name": "Python 3",
   "language": "python",
   "name": "python3"
  },
  "language_info": {
   "codemirror_mode": {
    "name": "ipython",
    "version": 3
   },
   "file_extension": ".py",
   "mimetype": "text/x-python",
   "name": "python",
   "nbconvert_exporter": "python",
   "pygments_lexer": "ipython3",
   "version": "3.7.0"
  }
 },
 "nbformat": 4,
 "nbformat_minor": 2
}
