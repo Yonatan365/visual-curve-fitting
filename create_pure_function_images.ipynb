{
 "cells": [
  {
   "cell_type": "code",
   "execution_count": 1,
   "metadata": {},
   "outputs": [],
   "source": [
    "%matplotlib inline\n",
    "import numpy as np\n",
    "import matplotlib.pyplot as plt"
   ]
  },
  {
   "cell_type": "code",
   "execution_count": 5,
   "metadata": {},
   "outputs": [
    {
     "data": {
      "image/png": "[encoded data removed]",
      "text/plain": [
       "<Figure size 288x216 with 1 Axes>"
      ]
     },
     "metadata": {
      "needs_background": "light"
     },
     "output_type": "display_data"
    }
   ],
   "source": [
    "def sine(x, params):\n",
    "    if np.ndim(params)==1: params = params[None, :]\n",
    "    return params[:,0]*np.cos(linear(x, params[:,1:]))\n",
    "\n",
    "def linear(x, params):\n",
    "    if np.ndim(params)==1: params = params[None, :]\n",
    "    return params[:,0]*x + params[:,1]\n",
    "\n",
    "def quadratic(x, params):\n",
    "    if np.ndim(params)==1: params = params[None, :]\n",
    "    return params[:,0]*x**2 + linear(x, params[:,1:])\n",
    "\n",
    "def cubic(x, params):\n",
    "    if np.ndim(params)==1: params = params[None, :]\n",
    "    return params[:,0]*x**3 + quadratic(x, params[:,1:])\n",
    "\n",
    "def make_function_images(func, param_ranges=[(-10,10), (-10,10)], n=4, size=(4,3)):\n",
    "    # create n graphs of function func with random parameters in the ranges given by params, image size size.\n",
    "    params = np.random.rand(n, len(param_ranges))\n",
    "    factors = [ranges[1]-ranges[0] for ranges in param_ranges]\n",
    "    mins = [ranges[0] for ranges in param_ranges]\n",
    "    params = params * factors + mins\n",
    "    x = np.linspace(-1,1,200)\n",
    "    plt.figure(figsize=size)\n",
    "    for i in range(n):\n",
    "#         print(params[i,:])\n",
    "        plt.plot(x, func(x, params[i,:]))\n",
    "        # Turn off tick labels\n",
    "        plt.xticks([])\n",
    "        plt.yticks([])\n",
    "        plt.savefig('imgs/'+func.__name__+'/'+str(i)+'.png')\n",
    "        plt.cla()\n",
    "    np.savetxt('imgs/'+func.__name__+'params.csv', params)\n",
    "\n",
    "    \n",
    "make_function_images(quadratic, [(-10,10), (-10,10), (-10,10), (-10,10)], n=1000)\n",
    "    \n"
   ]
  },
  {
   "cell_type": "code",
   "execution_count": null,
   "metadata": {},
   "outputs": [],
   "source": [
    "imgs = function_image(funcs = ['sine','linear','quadratic','cubic'], n=10, size=(100,100))"
   ]
  }
 ],
 "metadata": {
  "kernelspec": {
   "display_name": "Python 3",
   "language": "python",
   "name": "python3"
  },
  "language_info": {
   "codemirror_mode": {
    "name": "ipython",
    "version": 3
   },
   "file_extension": ".py",
   "mimetype": "text/x-python",
   "name": "python",
   "nbconvert_exporter": "python",
   "pygments_lexer": "ipython3",
   "version": "3.7.0"
  }
 },
 "nbformat": 4,
 "nbformat_minor": 2
}
